{
 "cells": [
  {
   "cell_type": "code",
   "id": "initial_id",
   "metadata": {
    "collapsed": true,
    "ExecuteTime": {
     "end_time": "2025-04-27T10:52:33.509208Z",
     "start_time": "2025-04-27T10:52:24.655575Z"
    }
   },
   "source": [
    "# autoreload for utils.py edits\n",
    "%load_ext autoreload\n",
    "%autoreload 2\n",
    "\n",
    "import torch\n",
    "import numpy as np\n",
    "import matplotlib.pyplot as plt\n",
    "\n",
    "# helper library\n",
    "from utils import (\n",
    "    register_hooks,\n",
    "    remove_hooks,\n",
    "    run_and_cache,\n",
    "    patch_activations,\n",
    "    compute_metrics,\n",
    "    plot_patching_results\n",
    ")\n",
    "\n",
    "from aeon.datasets import load_classification"
   ],
   "outputs": [],
   "execution_count": 2
  },
  {
   "metadata": {},
   "cell_type": "markdown",
   "source": "## Loading and preprocessing JapaneseVowels data",
   "id": "e8862ebe1a36f4b4"
  },
  {
   "metadata": {
    "ExecuteTime": {
     "end_time": "2025-04-27T10:52:39.235343Z",
     "start_time": "2025-04-27T10:52:38.660313Z"
    }
   },
   "cell_type": "code",
   "source": [
    "X_train, y_train = load_classification(\"JapaneseVowels\", split=\"train\")\n",
    "X_test, y_test = load_classification(\"JapaneseVowels\", split=\"test\")\n",
    "\n",
    "# swap axes to (N, seq_len, 1) and convert to float32\n",
    "def prep(X):\n",
    "    X_np = X.astype(np.float32)\n",
    "    return np.swapaxes(X_np, 1, 2)\n",
    "\n",
    "X_test = torch.tensor(prep(X_test))\n",
    "y_test = torch.tensor(y_test.astype(np.int64))\n",
    "\n",
    "print(\"Test set:\", X_test.shape, y_test.shape)"
   ],
   "id": "d24dc1bcfc5aa518",
   "outputs": [
    {
     "name": "stdout",
     "output_type": "stream",
     "text": [
      "Test set: torch.Size([370, 25, 12]) torch.Size([370])\n"
     ]
    }
   ],
   "execution_count": 3
  }
 ],
 "metadata": {
  "kernelspec": {
   "display_name": "Python 3",
   "language": "python",
   "name": "python3"
  },
  "language_info": {
   "codemirror_mode": {
    "name": "ipython",
    "version": 2
   },
   "file_extension": ".py",
   "mimetype": "text/x-python",
   "name": "python",
   "nbconvert_exporter": "python",
   "pygments_lexer": "ipython2",
   "version": "2.7.6"
  }
 },
 "nbformat": 4,
 "nbformat_minor": 5
}
